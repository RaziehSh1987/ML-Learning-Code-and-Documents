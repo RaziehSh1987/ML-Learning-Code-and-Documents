{
  "nbformat": 4,
  "nbformat_minor": 0,
  "metadata": {
    "colab": {
      "provenance": [],
      "include_colab_link": true
    },
    "kernelspec": {
      "name": "python3",
      "display_name": "Python 3"
    }
  },
  "cells": [
    {
      "cell_type": "markdown",
      "metadata": {
        "id": "view-in-github",
        "colab_type": "text"
      },
      "source": [
        "<a href=\"https://colab.research.google.com/github/RaziehSh1987/ML-Learning-Code-and-Documents/blob/main/data_preprocessing_tools.ipynb\" target=\"_parent\"><img src=\"https://colab.research.google.com/assets/colab-badge.svg\" alt=\"Open In Colab\"/></a>"
      ]
    },
    {
      "cell_type": "markdown",
      "source": [
        "\n",
        "# **Steps for PreProcessing the model:**\n",
        "```\n",
        "\n",
        "\n",
        "*   Read dataset by pandas\n",
        "*   determine the Independent or inout(x) and Dependent or result(y) data of dataset ,almost allways last column is dependent value\n",
        "*  remove missing data on X_datas by sklearn.SimpleImputer\n",
        "*  Encoding all data in X ,y => convert all data to number (or if we need we use of onehotEncoding) by sklearn.columnTransformer  or sklearn.labelEncoder\n",
        "*   split x,y datas to train and test data by sklearn.train_test_split\n",
        "*   doing FeatureScaling on x datas to shows datas in specific numbers by standardisation (-3 to +3) or normalization (0 to 1) (except column that is calculated by OneHotEncoding) by  sklearn.StandardScaler \n",
        "\n",
        "\n",
        "\n",
        "\n",
        "\n",
        "\n",
        "```\n",
        "\n"
      ],
      "metadata": {
        "id": "dFM70ClKMgbn"
      }
    },
    {
      "cell_type": "markdown",
      "metadata": {
        "id": "37puETfgRzzg"
      },
      "source": [
        "# Data Preprocessing Tools\n",
        "\n",
        "\n",
        "```\n",
        "Udemy video Tutorial for data preprocessing:\n",
        "https://www.udemy.com/course/machinelearning/learn/lecture/19019768#overview\n",
        "```\n",
        "\n"
      ]
    },
    {
      "cell_type": "code",
      "source": [
        "from google.colab import drive\n",
        "drive.mount('/content/drive')"
      ],
      "metadata": {
        "colab": {
          "base_uri": "https://localhost:8080/"
        },
        "id": "_z0e6OAlGIOu",
        "outputId": "5daf3f61-9488-43ba-ac04-101d78a2fcb3"
      },
      "execution_count": 2,
      "outputs": [
        {
          "output_type": "stream",
          "name": "stdout",
          "text": [
            "Mounted at /content/drive\n"
          ]
        }
      ]
    },
    {
      "cell_type": "markdown",
      "metadata": {
        "id": "EoRP98MpR-qj"
      },
      "source": [
        "## Importing the libraries"
      ]
    },
    {
      "cell_type": "code",
      "source": [
        "import numpy as np               # work with arrays\n",
        "import matplotlib.pyplot as plt  #plot nice chart and graph\n",
        "import pandas  as pd             #work with dataset , create matrix, feature.vector\n",
        "# Sklearn==> for data preprocessings and model slection"
      ],
      "metadata": {
        "id": "meeDs-NhFLTj"
      },
      "execution_count": 3,
      "outputs": []
    },
    {
      "cell_type": "markdown",
      "metadata": {
        "id": "RopL7tUZSQkT"
      },
      "source": [
        "## Importing the dataset"
      ]
    },
    {
      "cell_type": "code",
      "source": [
        "# read dataset(name.extention)\n",
        "dataset=pd.read_csv('/content/drive/MyDrive/ML_Udemy_tutorial/Teacher_Files/part1-Data Preprocessing/Data.csv')\n",
        "\n",
        "# matrix of features(X)(all data which i use and give them to the model to predict dependent variable:example=> country age , salary columns)\n",
        "X=dataset.iloc[:,:-1].values   #iloc => index of location. [:,:2]=[:,:-1] . -1=> index of last column\n",
        "\n",
        "# dependent variable vectors(Y)(the predicted variable .example=> purchased column) . values=>return the correspond values for each index\n",
        "y=dataset.iloc[:,-1].values"
      ],
      "metadata": {
        "id": "EY3Qq5uzGFor"
      },
      "execution_count": 4,
      "outputs": []
    },
    {
      "cell_type": "code",
      "metadata": {
        "id": "hCsz2yCebe1R",
        "colab": {
          "base_uri": "https://localhost:8080/"
        },
        "outputId": "13b9c134-646d-49da-90c5-99f32177d7db"
      },
      "source": [
        "print(X)"
      ],
      "execution_count": null,
      "outputs": [
        {
          "output_type": "stream",
          "name": "stdout",
          "text": [
            "[['France' 44.0 72000.0]\n",
            " ['Spain' 27.0 48000.0]\n",
            " ['Germany' 30.0 54000.0]\n",
            " ['Spain' 38.0 61000.0]\n",
            " ['Germany' 40.0 nan]\n",
            " ['France' 35.0 58000.0]\n",
            " ['Spain' nan 52000.0]\n",
            " ['France' 48.0 79000.0]\n",
            " ['Germany' 50.0 83000.0]\n",
            " ['France' 37.0 67000.0]]\n"
          ]
        }
      ]
    },
    {
      "cell_type": "code",
      "metadata": {
        "id": "eYrOQ43XcJR3",
        "colab": {
          "base_uri": "https://localhost:8080/"
        },
        "outputId": "b00a4316-02ab-4b64-93c4-7730749658a5"
      },
      "source": [
        "print(y)"
      ],
      "execution_count": null,
      "outputs": [
        {
          "output_type": "stream",
          "name": "stdout",
          "text": [
            "['No' 'Yes' 'No' 'No' 'Yes' 'Yes' 'No' 'Yes' 'No' 'Yes']\n"
          ]
        }
      ]
    },
    {
      "cell_type": "markdown",
      "metadata": {
        "id": "nhfKXNxlSabC"
      },
      "source": [
        "## Taking care of missing data"
      ]
    },
    {
      "cell_type": "code",
      "source": [
        "# ignore or remove null data | replace missing value with average value of all value of that column\n",
        "\n",
        "from  sklearn.impute import SimpleImputer # containing data processing tools\n",
        "imputer=SimpleImputer(missing_values=np.nan,strategy='mean')  # replace missing value with average value of all value of that column\n",
        "imputer.fit(X[:,1:3]) #connect imputer to metrix of features . X[:,1:3]=>1,2 columns(age and salary)\n",
        "X[:,1:3]=imputer.transform(X[:,1:3]) #replace new X data with all old X data\n",
        "\n"
      ],
      "metadata": {
        "id": "k6cvICu6T5mY"
      },
      "execution_count": 5,
      "outputs": []
    },
    {
      "cell_type": "code",
      "metadata": {
        "id": "3UgLdMS_bjq_",
        "colab": {
          "base_uri": "https://localhost:8080/"
        },
        "outputId": "98eae4d3-234e-4dd5-c4f4-d8b9d8579c1b"
      },
      "source": [
        "print(X)"
      ],
      "execution_count": null,
      "outputs": [
        {
          "output_type": "stream",
          "name": "stdout",
          "text": [
            "[['France' 44.0 72000.0]\n",
            " ['Spain' 27.0 48000.0]\n",
            " ['Germany' 30.0 54000.0]\n",
            " ['Spain' 38.0 61000.0]\n",
            " ['Germany' 40.0 63777.77777777778]\n",
            " ['France' 35.0 58000.0]\n",
            " ['Spain' 38.77777777777778 52000.0]\n",
            " ['France' 48.0 79000.0]\n",
            " ['Germany' 50.0 83000.0]\n",
            " ['France' 37.0 67000.0]]\n"
          ]
        }
      ]
    },
    {
      "cell_type": "markdown",
      "metadata": {
        "id": "CriG6VzVSjcK"
      },
      "source": [
        "## Encoding categorical data"
      ]
    },
    {
      "cell_type": "markdown",
      "source": [
        "convert string to numeric  with one hot encoding.because for model is easy to work with number instead of string."
      ],
      "metadata": {
        "id": "k0WPaxV3VbAH"
      }
    },
    {
      "cell_type": "markdown",
      "metadata": {
        "id": "AhSpdQWeSsFh"
      },
      "source": [
        "### Encoding the Independent Variable"
      ]
    },
    {
      "cell_type": "code",
      "source": [
        "from sklearn.compose import ColumnTransformer #for crate new colums\n",
        "from sklearn.preprocessing import OneHotEncoder\n",
        "ct=ColumnTransformer(transformers=[('encoder',OneHotEncoder(),[0])],remainder='passthrough') # transformers=[(kind of act(encoder), name of model(one hot encoding), index od column for encoding(country))] #pass throght=> pass another columns which i won't to do one hot encoding  on it like age and salary\n",
        "X = np.array(ct.fit_transform(X)) #to train the ML model,model except to get matrix ofnumpy array so we should convert all number to numpy array"
      ],
      "metadata": {
        "id": "Om4BXrd6Vfuz"
      },
      "execution_count": 6,
      "outputs": []
    },
    {
      "cell_type": "code",
      "metadata": {
        "id": "f7QspewyeBfx",
        "colab": {
          "base_uri": "https://localhost:8080/"
        },
        "outputId": "86c682c8-4d7e-4f1e-d73c-c926ddbb1ac3"
      },
      "source": [
        "print(X) #[1.0 0.0 0.0 44.0 72000.0] =>3 first column is for country ,4th number is age and 5th is salary  ,as a numpy array"
      ],
      "execution_count": 7,
      "outputs": [
        {
          "output_type": "stream",
          "name": "stdout",
          "text": [
            "[[1.0 0.0 0.0 44.0 72000.0]\n",
            " [0.0 0.0 1.0 27.0 48000.0]\n",
            " [0.0 1.0 0.0 30.0 54000.0]\n",
            " [0.0 0.0 1.0 38.0 61000.0]\n",
            " [0.0 1.0 0.0 40.0 63777.77777777778]\n",
            " [1.0 0.0 0.0 35.0 58000.0]\n",
            " [0.0 0.0 1.0 38.77777777777778 52000.0]\n",
            " [1.0 0.0 0.0 48.0 79000.0]\n",
            " [0.0 1.0 0.0 50.0 83000.0]\n",
            " [1.0 0.0 0.0 37.0 67000.0]]\n"
          ]
        }
      ]
    },
    {
      "cell_type": "markdown",
      "metadata": {
        "id": "DXh8oVSITIc6"
      },
      "source": [
        "### Encoding the Dependent Variable:\n",
        "\n",
        "\n",
        "```\n",
        "convert no and yes to 0,1 with lable encoder(purchased column is output and its label)\n",
        "```\n",
        "\n",
        "\n"
      ]
    },
    {
      "cell_type": "code",
      "source": [
        "from sklearn.preprocessing import LabelEncoder\n",
        "le=LabelEncoder() #call label encoder function\n",
        "y=le.fit_transform(y) #aooly labelEncoder on related data(y)"
      ],
      "metadata": {
        "id": "hh6-uYsxpDAB"
      },
      "execution_count": 10,
      "outputs": []
    },
    {
      "cell_type": "code",
      "metadata": {
        "id": "FyhY8-gPpFCa",
        "colab": {
          "base_uri": "https://localhost:8080/"
        },
        "outputId": "0dc2bfe7-3337-486b-ed51-a84b8e894587"
      },
      "source": [
        "print(y)"
      ],
      "execution_count": 9,
      "outputs": [
        {
          "output_type": "stream",
          "name": "stdout",
          "text": [
            "[0 1 0 0 1 1 0 1 0 1]\n"
          ]
        }
      ]
    },
    {
      "cell_type": "markdown",
      "metadata": {
        "id": "qb_vcgm3qZKW"
      },
      "source": [
        "## Splitting the dataset into the Training set and Test set\n",
        "\n",
        "\n",
        "```\n",
        "**we shoud apply feature scaling AFTER the spiliting the dataset,cause we prevent the lekage of data into test data**\n",
        "\n",
        "its good that =>train_size=80% and test_size=20%\n",
        "\n",
        "Random_state=> when splitting a dataset into training and testing subsets, setting the random_state parameter to a fixed value ensures that the same data points are assigned to the training and testing sets each time the code is executed. \n",
        "\n",
        "\n",
        "```\n",
        "\n"
      ]
    },
    {
      "cell_type": "code",
      "source": [
        "from sklearn.model_selection import train_test_split\n",
        "X_train,X_test,y_train,y_test=train_test_split(X,y,test_size=0.2 ,random_state=1 )"
      ],
      "metadata": {
        "id": "mXQxoyjLrDf_"
      },
      "execution_count": 24,
      "outputs": []
    },
    {
      "cell_type": "code",
      "metadata": {
        "id": "GuwQhFdKrYTM",
        "colab": {
          "base_uri": "https://localhost:8080/"
        },
        "outputId": "cd8a4373-0056-4963-a614-7164ed29602c"
      },
      "source": [
        "print(X_train)"
      ],
      "execution_count": 12,
      "outputs": [
        {
          "output_type": "stream",
          "name": "stdout",
          "text": [
            "[[0.0 0.0 1.0 38.77777777777778 52000.0]\n",
            " [0.0 1.0 0.0 40.0 63777.77777777778]\n",
            " [1.0 0.0 0.0 44.0 72000.0]\n",
            " [0.0 0.0 1.0 38.0 61000.0]\n",
            " [0.0 0.0 1.0 27.0 48000.0]\n",
            " [1.0 0.0 0.0 48.0 79000.0]\n",
            " [0.0 1.0 0.0 50.0 83000.0]\n",
            " [1.0 0.0 0.0 35.0 58000.0]]\n"
          ]
        }
      ]
    },
    {
      "cell_type": "code",
      "metadata": {
        "id": "TUrX_Tvcrbi4",
        "colab": {
          "base_uri": "https://localhost:8080/"
        },
        "outputId": "0ce92dd2-8586-4896-e1e7-b83d2e282d0c"
      },
      "source": [
        "print(X_test)"
      ],
      "execution_count": 13,
      "outputs": [
        {
          "output_type": "stream",
          "name": "stdout",
          "text": [
            "[[0.0 1.0 0.0 30.0 54000.0]\n",
            " [1.0 0.0 0.0 37.0 67000.0]]\n"
          ]
        }
      ]
    },
    {
      "cell_type": "code",
      "metadata": {
        "id": "pSMHiIsWreQY",
        "colab": {
          "base_uri": "https://localhost:8080/"
        },
        "outputId": "d6ae93a0-e122-4385-cfcc-90ac20705344"
      },
      "source": [
        "print(y_train)"
      ],
      "execution_count": 14,
      "outputs": [
        {
          "output_type": "stream",
          "name": "stdout",
          "text": [
            "[0 1 0 0 1 1 0 1]\n"
          ]
        }
      ]
    },
    {
      "cell_type": "code",
      "metadata": {
        "id": "I_tW7H56rgtW",
        "colab": {
          "base_uri": "https://localhost:8080/"
        },
        "outputId": "909eedb0-b670-413b-e6d3-ea2bf05148a9"
      },
      "source": [
        "print(y_test)"
      ],
      "execution_count": 15,
      "outputs": [
        {
          "output_type": "stream",
          "name": "stdout",
          "text": [
            "[0 1]\n"
          ]
        }
      ]
    },
    {
      "cell_type": "markdown",
      "metadata": {
        "id": "TpGqbS4TqkIR"
      },
      "source": [
        "## Feature Scaling\n",
        "\n",
        "\n",
        "```\n",
        "Normalisation=> is recommanded for when most of ***feature follow the normal distribution*** and  the data becom  between 0,1\n",
        "\n",
        "Standardisation ==> is recommanded for allways. and improve training process. \n",
        "the data is between -3,+3\n",
        "\n",
        "```\n",
        "\n"
      ]
    },
    {
      "cell_type": "markdown",
      "source": [
        "![photo_2023-06-09_21-33-28.jpg](data:image/jpeg;base64,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)"
      ],
      "metadata": {
        "id": "GXGgzGuY9rqh"
      }
    },
    {
      "cell_type": "markdown",
      "source": [
        "\n",
        "\n",
        "```\n",
        "fit => get mean and standardisiation on each feature\n",
        "transform==> apply the formula and transform value to variable\n",
        "we have fit_transform command that do both above task\n",
        "```\n",
        "\n"
      ],
      "metadata": {
        "id": "08zwZG1oJeb-"
      }
    },
    {
      "cell_type": "code",
      "source": [
        "from sklearn.preprocessing import StandardScaler #standardesiation feature scaling \n",
        "sc=StandardScaler()\n",
        "X_train[:,3:]=sc.fit_transform(X_train[:,3:]) #apply standardisiation only on Age and Salary column which is not oneHotEncoding\n",
        "            #X[:,3:]=>all row  and age and salary columns #apply standardisation on data- but we dont need to do standardisation on the onehotEncoding data(country column)\n",
        "X_test[:,3:]=sc.transform(X_test[:,3:])                                           "
      ],
      "metadata": {
        "id": "naulCArUBE7H"
      },
      "execution_count": 25,
      "outputs": []
    },
    {
      "cell_type": "code",
      "metadata": {
        "id": "DWPET8ZdlMnu",
        "colab": {
          "base_uri": "https://localhost:8080/"
        },
        "outputId": "f4970b3a-48b0-4634-e16c-ad7d1b96a50c"
      },
      "source": [
        "print(X_train)"
      ],
      "execution_count": 26,
      "outputs": [
        {
          "output_type": "stream",
          "name": "stdout",
          "text": [
            "[[0.0 0.0 1.0 -0.19159184384578545 -1.0781259408412425]\n",
            " [0.0 1.0 0.0 -0.014117293757057777 -0.07013167641635372]\n",
            " [1.0 0.0 0.0 0.566708506533324 0.633562432710455]\n",
            " [0.0 0.0 1.0 -0.30453019390224867 -0.30786617274297867]\n",
            " [0.0 0.0 1.0 -1.9018011447007988 -1.420463615551582]\n",
            " [1.0 0.0 0.0 1.1475343068237058 1.232653363453549]\n",
            " [0.0 1.0 0.0 1.4379472069688968 1.5749910381638885]\n",
            " [1.0 0.0 0.0 -0.7401495441200351 -0.5646194287757332]]\n"
          ]
        }
      ]
    },
    {
      "cell_type": "code",
      "metadata": {
        "id": "sTXykB_QlRjE",
        "colab": {
          "base_uri": "https://localhost:8080/"
        },
        "outputId": "a00c771f-306e-4001-c5d4-f99a6f5a6ddd"
      },
      "source": [
        "print(X_test)"
      ],
      "execution_count": 27,
      "outputs": [
        {
          "output_type": "stream",
          "name": "stdout",
          "text": [
            "[[0.0 1.0 0.0 -1.4661817944830124 -0.9069571034860727]\n",
            " [1.0 0.0 0.0 -0.44973664397484414 0.2056403393225306]]\n"
          ]
        }
      ]
    }
  ]
}